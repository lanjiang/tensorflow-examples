{
 "cells": [
  {
   "cell_type": "code",
   "execution_count": 3,
   "metadata": {
    "collapsed": true
   },
   "outputs": [],
   "source": [
    "import tensorflow as tf\n",
    "import numpy as np"
   ]
  },
  {
   "cell_type": "markdown",
   "metadata": {},
   "source": [
    "# Generate Data"
   ]
  },
  {
   "cell_type": "code",
   "execution_count": 4,
   "metadata": {
    "collapsed": true
   },
   "outputs": [],
   "source": [
    "N = 20000\n",
    "x_data = np.random.randn(N, 3)\n",
    "weights_real = [0.2, 0.5, 0.1]\n",
    "bias_real = 0.4\n",
    "y_data = np.matmul(weights_real, x_data.T) + bias_real"
   ]
  },
  {
   "cell_type": "code",
   "execution_count": 5,
   "metadata": {},
   "outputs": [
    {
     "name": "stdout",
     "output_type": "stream",
     "text": [
      "(20000,)\n"
     ]
    }
   ],
   "source": [
    "print(y_data.shape)"
   ]
  },
  {
   "cell_type": "code",
   "execution_count": 7,
   "metadata": {
    "collapsed": true
   },
   "outputs": [],
   "source": [
    "def sigmoid(x):\n",
    "    return 1 / (1 + np.exp(-x))\n",
    "    "
   ]
  },
  {
   "cell_type": "code",
   "execution_count": 8,
   "metadata": {
    "collapsed": true
   },
   "outputs": [],
   "source": [
    "y_data_noise = np.random.binomial(1, sigmoid(y_data))"
   ]
  },
  {
   "cell_type": "code",
   "execution_count": 21,
   "metadata": {},
   "outputs": [
    {
     "name": "stdout",
     "output_type": "stream",
     "text": [
      "(20000, 3)\n"
     ]
    }
   ],
   "source": [
    "print(x_data.shape)"
   ]
  },
  {
   "cell_type": "markdown",
   "metadata": {},
   "source": [
    "# Design Tensorflow Graph"
   ]
  },
  {
   "cell_type": "code",
   "execution_count": 22,
   "metadata": {
    "collapsed": true
   },
   "outputs": [],
   "source": [
    "with tf.name_scope(\"inference\") as scope:\n",
    "    x = tf.placeholder(dtype=tf.float32, shape=[None,3])\n",
    "    w = tf.Variable([[0,0,0]],dtype=tf.float32, name=\"weights\")\n",
    "    b = tf.Variable(0, dtype=tf.float32, name=\"bias\")\n",
    "    y_real = tf.placeholder(dtype=tf.float32, shape=None)\n",
    "    y_pred = tf.matmul(w, tf.transpose(x))+ b\n"
   ]
  },
  {
   "cell_type": "markdown",
   "metadata": {},
   "source": [
    "# Define Loss"
   ]
  },
  {
   "cell_type": "code",
   "execution_count": 23,
   "metadata": {
    "collapsed": true
   },
   "outputs": [],
   "source": [
    "with tf.name_scope(\"loss\") as scope:\n",
    "    loss = tf.nn.sigmoid_cross_entropy_with_logits(labels=y_real, logits=y_pred)\n",
    "    loss = tf.reduce_mean(loss)"
   ]
  },
  {
   "cell_type": "markdown",
   "metadata": {},
   "source": [
    "# Choose Optimization"
   ]
  },
  {
   "cell_type": "code",
   "execution_count": 24,
   "metadata": {
    "collapsed": true
   },
   "outputs": [],
   "source": [
    "with tf.name_scope(\"optimization\") as scope:\n",
    "    learning_rate = 0.5\n",
    "    optimizer= tf.train.GradientDescentOptimizer(learning_rate)\n",
    "    train = optimizer.minimize(loss)"
   ]
  },
  {
   "cell_type": "markdown",
   "metadata": {},
   "source": [
    "# Run Tensorflow Graph"
   ]
  },
  {
   "cell_type": "code",
   "execution_count": 26,
   "metadata": {},
   "outputs": [
    {
     "name": "stdout",
     "output_type": "stream",
     "text": [
      "0 [array([[ 0.02027554,  0.05631297,  0.01013995]], dtype=float32), 0.044925474]\n",
      "5 [array([[ 0.08964575,  0.24997175,  0.04516004]], dtype=float32), 0.20004582]\n",
      "10 [array([[ 0.12673332,  0.3544732 ,  0.06418061]], dtype=float32), 0.2836988]\n",
      "15 [array([[ 0.14754014,  0.41361749,  0.07499966]], dtype=float32), 0.3305594]\n",
      "20 [array([[ 0.15959324,  0.44815633,  0.0813446 ]], dtype=float32), 0.35751498]\n",
      "25 [array([[ 0.16671106,  0.46870252,  0.08513388]], dtype=float32), 0.3732858]\n",
      "30 [array([[ 0.17096251,  0.48105615,  0.08742092]], dtype=float32), 0.38261366]\n",
      "35 [array([[ 0.17351907,  0.48852938,  0.08880968]], dtype=float32), 0.38817012]\n",
      "40 [array([[ 0.17506258,  0.49306577,  0.08965585]], dtype=float32), 0.39149597]\n",
      "45 [array([[ 0.17599669,  0.49582461,  0.09017237]], dtype=float32), 0.39349329]\n",
      "50 [array([[ 0.17656279,  0.49750397,  0.09048793]], dtype=float32), 0.39469564]\n",
      "55 [array([[ 0.17690618,  0.49852669,  0.0906808 ]], dtype=float32), 0.3954207]\n",
      "60 [array([[ 0.17711456,  0.49914965,  0.09079869]], dtype=float32), 0.39585853]\n",
      "65 [array([[ 0.17724106,  0.49952903,  0.09087073]], dtype=float32), 0.39612317]\n",
      "70 [array([[ 0.17731787,  0.49976006,  0.09091473]], dtype=float32), 0.39628327]\n",
      "75 [array([[ 0.17736453,  0.49990079,  0.09094162]], dtype=float32), 0.39638019]\n",
      "80 [array([[ 0.17739286,  0.49998644,  0.09095804]], dtype=float32), 0.3964389]\n",
      "85 [array([[ 0.17741007,  0.50003856,  0.09096804]], dtype=float32), 0.39647448]\n",
      "90 [array([[ 0.17742053,  0.50007027,  0.09097415]], dtype=float32), 0.39649606]\n",
      "95 [array([[ 0.17742686,  0.50008959,  0.09097789]], dtype=float32), 0.39650914]\n",
      "100 [array([[ 0.1774307 ,  0.50010133,  0.09098017]], dtype=float32), 0.39651707]\n",
      "105 [array([[ 0.17743304,  0.50010854,  0.09098157]], dtype=float32), 0.39652187]\n",
      "110 [array([[ 0.17743446,  0.50011289,  0.09098241]], dtype=float32), 0.39652482]\n",
      "115 [array([[ 0.17743532,  0.50011557,  0.09098291]], dtype=float32), 0.3965266]\n",
      "120 [array([[ 0.17743585,  0.50011712,  0.09098323]], dtype=float32), 0.39652771]\n",
      "125 [array([[ 0.17743617,  0.50011814,  0.09098342]], dtype=float32), 0.39652836]\n",
      "130 [array([[ 0.17743637,  0.50011873,  0.09098355]], dtype=float32), 0.39652875]\n",
      "135 [array([[ 0.17743649,  0.50011903,  0.09098362]], dtype=float32), 0.39652899]\n",
      "140 [array([[ 0.17743656,  0.50011933,  0.09098366]], dtype=float32), 0.39652914]\n",
      "145 [array([[ 0.17743661,  0.50011939,  0.09098369]], dtype=float32), 0.39652923]\n",
      "150 [array([[ 0.17743661,  0.50011939,  0.09098369]], dtype=float32), 0.39652923]\n",
      "155 [array([[ 0.17743661,  0.50011939,  0.09098369]], dtype=float32), 0.39652923]\n",
      "160 [array([[ 0.17743661,  0.50011939,  0.09098369]], dtype=float32), 0.39652923]\n",
      "165 [array([[ 0.17743661,  0.50011939,  0.09098369]], dtype=float32), 0.39652923]\n",
      "170 [array([[ 0.17743661,  0.50011939,  0.09098369]], dtype=float32), 0.39652923]\n",
      "175 [array([[ 0.17743661,  0.50011939,  0.09098369]], dtype=float32), 0.39652923]\n",
      "180 [array([[ 0.17743661,  0.50011939,  0.09098369]], dtype=float32), 0.39652923]\n",
      "185 [array([[ 0.17743661,  0.50011939,  0.09098369]], dtype=float32), 0.39652923]\n",
      "190 [array([[ 0.17743661,  0.50011939,  0.09098369]], dtype=float32), 0.39652923]\n",
      "195 [array([[ 0.17743661,  0.50011939,  0.09098369]], dtype=float32), 0.39652923]\n"
     ]
    }
   ],
   "source": [
    "STEP = 200\n",
    "init = tf.global_variables_initializer()\n",
    "with tf.Session() as sess:\n",
    "    sess.run(init)\n",
    "    for i in range(STEP):\n",
    "        train_value = sess.run(train, feed_dict={x: x_data, y_real: y_data_noise})\n",
    "        if i % 5 == 0:\n",
    "            print(i, sess.run([w,b]))"
   ]
  },
  {
   "cell_type": "code",
   "execution_count": null,
   "metadata": {
    "collapsed": true
   },
   "outputs": [],
   "source": []
  }
 ],
 "metadata": {
  "kernelspec": {
   "display_name": "Python [conda env:tensorflow]",
   "language": "python",
   "name": "conda-env-tensorflow-py"
  },
  "language_info": {
   "codemirror_mode": {
    "name": "ipython",
    "version": 3
   },
   "file_extension": ".py",
   "mimetype": "text/x-python",
   "name": "python",
   "nbconvert_exporter": "python",
   "pygments_lexer": "ipython3",
   "version": "3.5.4"
  }
 },
 "nbformat": 4,
 "nbformat_minor": 2
}
